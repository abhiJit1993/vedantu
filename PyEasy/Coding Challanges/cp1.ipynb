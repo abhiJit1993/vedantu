{
 "cells": [
  {
   "cell_type": "markdown",
   "metadata": {},
   "source": [
    "<p>Consider the following algorithm to generate a sequence of numbers. Start with an\n",
    "integer n. If n is even, divide by 2. If n is odd, multiply by 3 and add 1. Repeat this\n",
    "process with the new value of n, terminating when n = 1. For example, the following\n",
    "sequence of numbers will be generated for n = 22: </p><br>\n",
    "<br>\n",
    "<b>22 11 34 17 52 26 13 40 20 10 5 16 8 4 2 1 </b><br>\n",
    "<br>\n",
    "<p>\n",
    "It is conjectured (but not yet proven) that this algorithm will terminate at n = 1 for\n",
    "every integer n. Still, the conjecture holds for all integers up to at least 1, 000, 000.\n",
    "For an input n, the cycle-length of n is the number of numbers generated up to and\n",
    "including the 1. In the example above, the cycle length of 22 is 16. Given any two\n",
    "numbers i and j, you are to determine the maximum cycle length over all numbers\n",
    "between i and j, including both endpoints. </p>\n",
    "<br>\n",
    "Input <br>\n",
    "The input will consist of a series of pairs of integers i and j, one pair of integers per\n",
    "line. All integers will be less than 1,000,000 and greater than 0.\n",
    "<br>\n",
    "Output <br>\n",
    "\n",
    "For each pair of input integers i and j, output i, j in the same order in which they\n",
    "appeared in the input and then the maximum cycle length for integers between and\n",
    "including i and j. These three numbers should be separated by one space, with all three\n",
    "numbers on one line and with one line of output for each line of input. \n",
    "<br>\n",
    "<table>\n",
    "<tr>\n",
    "<th>Sample Input</th>\n",
    "<th>Sample Output</th>\n",
    "</tr>\n",
    "<tr> \n",
    "<td>1 10</td>\n",
    "<td>1 10 20</td>\n",
    "\n",
    "</tr>\n",
    "<tr> \n",
    "<td>100 200</td>\n",
    "<td>100 200 125</td>\n",
    "\n",
    "</tr>\n",
    "\n",
    "<tr> \n",
    "<td>201 210</td>\n",
    "<td>201 210 89</td>\n",
    "\n",
    "</tr>\n",
    "\n",
    "\n",
    "<tr> \n",
    "<td>900 1000</td>\n",
    "<td>900 1000 174</td>\n",
    "\n",
    "</tr>\n",
    "\n",
    "\n",
    "</table>\n",
    " <br>\n",
    "\n",
    "<br>\n",
    "\n"
   ]
  },
  {
   "cell_type": "code",
   "execution_count": 10,
   "metadata": {},
   "outputs": [],
   "source": [
    "sequence = [1]\n",
    "\n",
    "def makeSeq(elem):\n",
    "    sequence.append(int(elem))\n",
    "\n",
    "def generateSeq(num):\n",
    "    if num == 1:\n",
    "       return makeSeq(1)\n",
    "    else:\n",
    "        if not num:\n",
    "           print('Invalid Number')\n",
    "\n",
    "        else:\n",
    "            if(num % 2 == 0):\n",
    "               return makeSeq(num/2)\n",
    "            else:\n",
    "               return makeSeq(num*3+1)\n",
    "    \n",
    "            \n",
    "while sequence[len(sequence)-1] != 1:\n",
    "    generateSeq(sequence[len(sequence)-1])\n",
    "   \n",
    "\n",
    "    \n",
    "        "
   ]
  },
  {
   "cell_type": "code",
   "execution_count": 11,
   "metadata": {},
   "outputs": [
    {
     "data": {
      "text/plain": [
       "[1]"
      ]
     },
     "execution_count": 11,
     "metadata": {},
     "output_type": "execute_result"
    }
   ],
   "source": [
    "sequence"
   ]
  },
  {
   "cell_type": "code",
   "execution_count": 51,
   "metadata": {},
   "outputs": [],
   "source": [
    "def generate_output(x,y):\n",
    "    x_sq = getSq(x)\n",
    "    y_sq =  getSq(y)\n",
    "    result = (str(x) + ' ' + str(y) + ' ' + (str(len(x_sq)) if len(x_sq) >= len(y_sq) else str(len(y_sq))))\n",
    "\n",
    "    return result\n",
    "    \n",
    "\n",
    "def getSq(num):\n",
    "   sq = [num]\n",
    "    \n",
    "   while sq[len(sq)-1] != 1:\n",
    "      if num == 1:\n",
    "        return sq\n",
    "      else:\n",
    "        if not num:\n",
    "           print('Invalid Number')\n",
    "\n",
    "        else:\n",
    "            if(num % 2 == 0):\n",
    "               sq.append(num/2)\n",
    "               num = sq[len(sq)-1]\n",
    "            else:\n",
    "               sq.append(num*3+1)\n",
    "               num = sq[len(sq)-1]\n",
    "   return sq\n",
    "   \n",
    "    \n",
    "    \n"
   ]
  },
  {
   "cell_type": "code",
   "execution_count": 56,
   "metadata": {},
   "outputs": [
    {
     "data": {
      "text/plain": [
       "'10 9 20'"
      ]
     },
     "execution_count": 56,
     "metadata": {},
     "output_type": "execute_result"
    }
   ],
   "source": [
    "generate_output(10,9)"
   ]
  },
  {
   "cell_type": "markdown",
   "metadata": {},
   "source": []
  }
 ],
 "metadata": {
  "kernelspec": {
   "display_name": "Python 3",
   "language": "python",
   "name": "python3"
  },
  "language_info": {
   "codemirror_mode": {
    "name": "ipython",
    "version": 3
   },
   "file_extension": ".py",
   "mimetype": "text/x-python",
   "name": "python",
   "nbconvert_exporter": "python",
   "pygments_lexer": "ipython3",
   "version": "3.10.13"
  }
 },
 "nbformat": 4,
 "nbformat_minor": 2
}
