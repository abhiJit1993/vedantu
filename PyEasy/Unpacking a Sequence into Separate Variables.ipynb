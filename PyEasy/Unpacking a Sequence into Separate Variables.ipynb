{
 "cells": [
  {
   "cell_type": "markdown",
   "metadata": {},
   "source": [
    "<h2 style=\"color: Blue;\" background-color:\"red\" > Unpacking a Sequence into Separate Variables</h2>"
   ]
  },
  {
   "cell_type": "markdown",
   "metadata": {},
   "source": [
    "<h3 style=\"color: Orange;\">Problem :</h3>\n",
    "<h4> <p>We have an N-element tuple or sequence that you would like to unpack into a collection\n",
    "of N variables.</p>\n",
    "<b>data = [ 'ACME', 50, 91.1, (2012, 12, 21) ]<b> <h4>"
   ]
  },
  {
   "cell_type": "markdown",
   "metadata": {},
   "source": [
    "<h4 class=\"noob-heading\"><span>👶</span>Noob Way</h4>"
   ]
  },
  {
   "cell_type": "code",
   "execution_count": 4,
   "metadata": {},
   "outputs": [
    {
     "name": "stdout",
     "output_type": "stream",
     "text": [
      "ACME\n",
      "50\n",
      "91.1\n",
      "(2012, 12, 21)\n"
     ]
    }
   ],
   "source": [
    "\n",
    "data = [ 'ACME', 50, 91.1, (2012, 12, 21) ]\n",
    "product = data[0]\n",
    "x =  data[1]\n",
    "y=data[2]\n",
    "z = data[3]\n",
    "\n",
    "print(product)\n",
    "print(x)\n",
    "print(y)\n",
    "print(z)"
   ]
  },
  {
   "cell_type": "markdown",
   "metadata": {},
   "source": [
    "<h4 class=\"heading pro-heading\"><span>👨‍💻</span>Pro Way</h4>"
   ]
  },
  {
   "cell_type": "code",
   "execution_count": 5,
   "metadata": {},
   "outputs": [],
   "source": [
    "product_new  , x_new , y_new, z_new = data"
   ]
  },
  {
   "cell_type": "code",
   "execution_count": 6,
   "metadata": {},
   "outputs": [
    {
     "name": "stdout",
     "output_type": "stream",
     "text": [
      "ACME 50 91.1 (2012, 12, 21)\n"
     ]
    }
   ],
   "source": [
    "print(product_new  , x_new , y_new, z_new )"
   ]
  },
  {
   "cell_type": "markdown",
   "metadata": {},
   "source": [
    "<div style=\"color: red; font-family: 'Roboto', sans-serif;\">\n",
    "<ul>\n",
    "<li>Works with any object which is iterable e.g., strings, files, and generators.</li>\n",
    "<li>To discard certain values , we can use <b>throwaway variables <b></li>\n",
    "</ul></div>\n"
   ]
  },
  {
   "cell_type": "code",
   "execution_count": 7,
   "metadata": {},
   "outputs": [
    {
     "name": "stdout",
     "output_type": "stream",
     "text": [
      "John 345\n"
     ]
    }
   ],
   "source": [
    "studentDetails = ['John','Doe',345,(150, 100,95)]\n",
    "\n",
    "firstname , i_am_of_no_use , total_marks , i_am_of_no_use =studentDetails\n",
    "\n",
    "print(firstname,total_marks)"
   ]
  },
  {
   "cell_type": "markdown",
   "metadata": {},
   "source": [
    "<div style=\"color: red; font-family: 'Roboto', sans-serif;\">\n",
    "<ul>\n",
    "<li>What if we dont know the lenght of the iterable. It may lead to <b>“too many values to unpack” </b> exception. </li>\n",
    "<li>We can use <b> \"star expressions\" </b> to address this problem.</li>\n",
    "</ul></div>\n",
    "Refer the below section\n"
   ]
  },
  {
   "cell_type": "markdown",
   "metadata": {},
   "source": [
    "<h2 style=\"color: Blue;\" background-color:\"red\" > Unpacking Elements from Iterables of Arbitrary\n",
    "Length\n",
    "</h2>"
   ]
  },
  {
   "cell_type": "markdown",
   "metadata": {},
   "source": [
    "<div style=\"color: red; font-family: 'Roboto', sans-serif;\">Star unpacking (also known as extended unpacking) in Python allows you to capture an arbitrary number of elements from an iterable into a list while unpacking. This is useful when you don't know the exact number of elements or when you want to unpack some elements while capturing the rest. </div><br><br>\n",
    "\n",
    "<div style=\"background-color: orange; padding: 20px;\" >Example 1\n",
    "</div>"
   ]
  },
  {
   "cell_type": "code",
   "execution_count": 8,
   "metadata": {},
   "outputs": [],
   "source": [
    "\n",
    "#values = [1, 2, 3, 4, 5]\n",
    "\n",
    "#a, b, c= values  # ValueError: too many values to unpack (expected 3)\n",
    "\n",
    "#print(a)      # 1\n",
    "#print(b)      # 2\n",
    "#print(c)      # 3\n",
    "\n"
   ]
  },
  {
   "cell_type": "markdown",
   "metadata": {},
   "source": [
    "<div style=\"background-color: orange; padding: 20px;\"> Example (Simple Start Unpacking)</div>"
   ]
  },
  {
   "cell_type": "code",
   "execution_count": 9,
   "metadata": {},
   "outputs": [
    {
     "name": "stdout",
     "output_type": "stream",
     "text": [
      "1\n",
      "2\n",
      "3\n",
      "[4, 5]\n"
     ]
    }
   ],
   "source": [
    "\n",
    "values = [1, 2, 3, 4, 5]\n",
    "\n",
    "a, b, c, *extra = values\n",
    "\n",
    "print(a)      # 1\n",
    "print(b)      # 2\n",
    "print(c)      # 3\n",
    "print(extra)  # [4, 5]\n"
   ]
  },
  {
   "cell_type": "markdown",
   "metadata": {},
   "source": [
    "<div style=\"background-color: orange; padding: 20px;\"> Example (start unpacking in the middle) <div>"
   ]
  },
  {
   "cell_type": "code",
   "execution_count": 10,
   "metadata": {},
   "outputs": [
    {
     "name": "stdout",
     "output_type": "stream",
     "text": [
      "1\n",
      "[2, 3, 4]\n",
      "5\n"
     ]
    }
   ],
   "source": [
    "values = [1, 2, 3, 4, 5]\n",
    "a, *middle, d = values\n",
    "\n",
    "print(a)      # Output: 1\n",
    "print(middle) # Output: [2, 3, 4]\n",
    "print(d)      # Output: 5"
   ]
  },
  {
   "cell_type": "markdown",
   "metadata": {},
   "source": [
    "<div style=\"background-color: orange; padding: 20px;\">Example (Start unpacking with throwaway variables) </div>"
   ]
  },
  {
   "cell_type": "code",
   "execution_count": 11,
   "metadata": {},
   "outputs": [
    {
     "name": "stdout",
     "output_type": "stream",
     "text": [
      "1\n",
      "2\n"
     ]
    }
   ],
   "source": [
    "values = [1, 2, 3, 4, 5]\n",
    "a, b, *_ = values\n",
    "\n",
    "print(a) # Output: 1\n",
    "print(b) # Output: 2"
   ]
  },
  {
   "cell_type": "markdown",
   "metadata": {},
   "source": [
    "<div style=\"background-color: orange; padding: 20px;\">Example (Nested Star Unpacking) </div>"
   ]
  },
  {
   "cell_type": "code",
   "execution_count": 12,
   "metadata": {},
   "outputs": [
    {
     "name": "stdout",
     "output_type": "stream",
     "text": [
      "1\n",
      "2\n",
      "3\n",
      "[4, 5]\n",
      "6\n",
      "7\n"
     ]
    }
   ],
   "source": [
    "nested_values = [1, 2, [3, 4, 5], 6, 7]\n",
    "a, b, (c, *d), e, f = nested_values\n",
    "\n",
    "print(a) # Output: 1\n",
    "print(b) # Output: 2\n",
    "print(c) # Output: 3\n",
    "print(d) # Output: [4, 5]\n",
    "print(e) # Output: 6\n",
    "print(f) # Output: 7"
   ]
  },
  {
   "cell_type": "markdown",
   "metadata": {},
   "source": [
    "<div style=\"background-color: orange; padding: 20px;\">Example (Star Unpacking With Strings)</div>"
   ]
  },
  {
   "cell_type": "code",
   "execution_count": 13,
   "metadata": {},
   "outputs": [
    {
     "name": "stdout",
     "output_type": "stream",
     "text": [
      "First word: Python\n",
      "Middle words: ['is', 'a', 'powerful', 'programming']\n",
      "Last word: language\n"
     ]
    }
   ],
   "source": [
    "\n",
    "text = \"Python:is:a:powerful:programming:language\"\n",
    "a, *middle, c = text.split(':')\n",
    "\n",
    "print(\"First word:\", a)\n",
    "print(\"Middle words:\", middle)\n",
    "print(\"Last word:\", c)"
   ]
  },
  {
   "cell_type": "markdown",
   "metadata": {},
   "source": []
  }
 ],
 "metadata": {
  "kernelspec": {
   "display_name": "Python 3",
   "language": "python",
   "name": "python3"
  },
  "language_info": {
   "codemirror_mode": {
    "name": "ipython",
    "version": 3
   },
   "file_extension": ".py",
   "mimetype": "text/x-python",
   "name": "python",
   "nbconvert_exporter": "python",
   "pygments_lexer": "ipython3",
   "version": "3.10.13"
  }
 },
 "nbformat": 4,
 "nbformat_minor": 2
}
