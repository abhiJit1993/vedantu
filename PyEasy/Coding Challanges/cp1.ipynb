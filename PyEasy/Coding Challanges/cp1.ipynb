{
 "cells": [
  {
   "cell_type": "markdown",
   "metadata": {},
   "source": [
    "<p>Consider the following algorithm to generate a sequence of numbers. Start with an\n",
    "integer n. If n is even, divide by 2. If n is odd, multiply by 3 and add 1. Repeat this\n",
    "process with the new value of n, terminating when n = 1. For example, the following\n",
    "sequence of numbers will be generated for n = 22: </p><br>\n",
    "22 11 34 17 52 26 13 40 20 10 5 16 8 4 2 1\n",
    "It is conjectured (but not yet proven) that this algorithm will terminate at n = 1 for\n",
    "every integer n. Still, the conjecture holds for all integers up to at least 1, 000, 000.\n",
    "For an input n, the cycle-length of n is the number of numbers generated up to and\n",
    "including the 1. In the example above, the cycle length of 22 is 16. Given any two\n",
    "numbers i and j, you are to determine the maximum cycle length over all numbers\n",
    "between i and j, including both endpoints.\n",
    "Input\n",
    "The input will consist of a series of pairs of integers i and j, one pair of integers per\n",
    "line. All integers will be less than 1,000,000 and greater than 0.\n",
    "Output\n",
    "For each pair of input integers i and j, output i, j in the same order in which they\n",
    "appeared in the input and then the maximum cycle length for integers between and\n",
    "including i and j. These three numbers should be separated by one space, with all three\n",
    "numbers on one line and with one line of output for each line of input.\n",
    "Sample Input\n",
    "1 10\n",
    "100 200\n",
    "201 210\n",
    "900 1000\n",
    "Sample Output\n",
    "1 10 20\n",
    "100 200 125\n",
    "201 210 89\n",
    "900 1000 174"
   ]
  },
  {
   "cell_type": "code",
   "execution_count": 10,
   "metadata": {},
   "outputs": [],
   "source": [
    "sequence = [1]\n",
    "\n",
    "def makeSeq(elem):\n",
    "    sequence.append(int(elem))\n",
    "\n",
    "def generateSeq(num):\n",
    "    if num == 1:\n",
    "       return makeSeq(1)\n",
    "    else:\n",
    "        if not num:\n",
    "           print('Invalid Number')\n",
    "\n",
    "        else:\n",
    "            if(num % 2 == 0):\n",
    "               return makeSeq(num/2)\n",
    "            else:\n",
    "               return makeSeq(num*3+1)\n",
    "    \n",
    "            \n",
    "while sequence[len(sequence)-1] != 1:\n",
    "    generateSeq(sequence[len(sequence)-1])\n",
    "   \n",
    "\n",
    "    \n",
    "        "
   ]
  },
  {
   "cell_type": "code",
   "execution_count": 11,
   "metadata": {},
   "outputs": [
    {
     "data": {
      "text/plain": [
       "[1]"
      ]
     },
     "execution_count": 11,
     "metadata": {},
     "output_type": "execute_result"
    }
   ],
   "source": [
    "sequence"
   ]
  },
  {
   "cell_type": "markdown",
   "metadata": {},
   "source": []
  }
 ],
 "metadata": {
  "kernelspec": {
   "display_name": "Python 3",
   "language": "python",
   "name": "python3"
  },
  "language_info": {
   "codemirror_mode": {
    "name": "ipython",
    "version": 3
   },
   "file_extension": ".py",
   "mimetype": "text/x-python",
   "name": "python",
   "nbconvert_exporter": "python",
   "pygments_lexer": "ipython3",
   "version": "3.10.13"
  }
 },
 "nbformat": 4,
 "nbformat_minor": 2
}
