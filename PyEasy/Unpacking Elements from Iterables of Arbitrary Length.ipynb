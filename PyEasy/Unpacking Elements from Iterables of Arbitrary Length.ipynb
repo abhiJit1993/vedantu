{
 "cells": [
  {
   "cell_type": "markdown",
   "metadata": {},
   "source": [
    "<div style=\"background-color: orange; padding: 20px;\">Example (Start unpacking with throwaway variables) </div>"
   ]
  },
  {
   "cell_type": "code",
   "execution_count": null,
   "metadata": {},
   "outputs": [],
   "source": [
    "values = [1, 2, 3, 4, 5]\n",
    "a, b, *_ = values\n",
    "\n",
    "print(a) # Output: 1\n",
    "print(b) # Output: 2"
   ]
  },
  {
   "cell_type": "markdown",
   "metadata": {},
   "source": [
    "<div style=\"background-color: orange; padding: 20px;\">Example (Nested Star Unpacking) </div>"
   ]
  },
  {
   "cell_type": "code",
   "execution_count": 1,
   "metadata": {},
   "outputs": [
    {
     "name": "stdout",
     "output_type": "stream",
     "text": [
      "1\n",
      "2\n",
      "3\n",
      "[4, 5]\n",
      "6\n",
      "7\n"
     ]
    }
   ],
   "source": [
    "nested_values = [1, 2, [3, 4, 5], 6, 7]\n",
    "a, b, (c, *d), e, f = nested_values\n",
    "\n",
    "print(a) # Output: 1\n",
    "print(b) # Output: 2\n",
    "print(c) # Output: 3\n",
    "print(d) # Output: [4, 5]\n",
    "print(e) # Output: 6\n",
    "print(f) # Output: 7"
   ]
  },
  {
   "cell_type": "markdown",
   "metadata": {},
   "source": [
    "<div style=\"background-color: orange; padding: 20px;\">Example (Star Unpacking With Strings)</div>"
   ]
  },
  {
   "cell_type": "code",
   "execution_count": 2,
   "metadata": {},
   "outputs": [
    {
     "name": "stdout",
     "output_type": "stream",
     "text": [
      "First word: Python\n",
      "Middle words: ['is', 'a', 'powerful', 'programming']\n",
      "Last word: language\n"
     ]
    }
   ],
   "source": [
    "\n",
    "text = \"Python:is:a:powerful:programming:language\"\n",
    "a, *middle, c = text.split(':')\n",
    "\n",
    "print(\"First word:\", a)\n",
    "print(\"Middle words:\", middle)\n",
    "print(\"Last word:\", c)"
   ]
  },
  {
   "cell_type": "code",
   "execution_count": null,
   "metadata": {},
   "outputs": [],
   "source": []
  }
 ],
 "metadata": {
  "kernelspec": {
   "display_name": "Python 3",
   "language": "python",
   "name": "python3"
  },
  "language_info": {
   "codemirror_mode": {
    "name": "ipython",
    "version": 3
   },
   "file_extension": ".py",
   "mimetype": "text/x-python",
   "name": "python",
   "nbconvert_exporter": "python",
   "pygments_lexer": "ipython3",
   "version": "3.10.13"
  }
 },
 "nbformat": 4,
 "nbformat_minor": 2
}
