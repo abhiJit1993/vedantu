{
 "cells": [
  {
   "cell_type": "markdown",
   "metadata": {},
   "source": [
    "Given an array of integers nums and an integer target, return the indices of the two numbers that add up to target"
   ]
  },
  {
   "cell_type": "code",
   "execution_count": 1,
   "metadata": {},
   "outputs": [
    {
     "name": "stdout",
     "output_type": "stream",
     "text": [
      "[(0, 3), (1, 2), (4, 5)]\n"
     ]
    }
   ],
   "source": [
    "\n",
    "def getIndexesToSum(number_list,target):\n",
    "    pairs=[]\n",
    "    done =[]\n",
    "    for index , num in enumerate(number_list):\n",
    "        compliment = target-num\n",
    "        if compliment in number_list:\n",
    "            done.append(number_list.index(compliment))\n",
    "            if index not in done:\n",
    "                pairs.append((index,number_list.index(compliment)))\n",
    "                \n",
    "    return pairs\n",
    "        \n",
    "print(getIndexesToSum([2,4,6,8,7,3],10))"
   ]
  },
  {
   "cell_type": "code",
   "execution_count": null,
   "metadata": {},
   "outputs": [],
   "source": []
  }
 ],
 "metadata": {
  "kernelspec": {
   "display_name": "Python 3",
   "language": "python",
   "name": "python3"
  },
  "language_info": {
   "codemirror_mode": {
    "name": "ipython",
    "version": 3
   },
   "file_extension": ".py",
   "mimetype": "text/x-python",
   "name": "python",
   "nbconvert_exporter": "python",
   "pygments_lexer": "ipython3",
   "version": "3.12.1"
  }
 },
 "nbformat": 4,
 "nbformat_minor": 2
}
